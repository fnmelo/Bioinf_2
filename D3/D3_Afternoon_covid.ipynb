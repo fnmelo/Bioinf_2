{
  "cells": [
    {
      "cell_type": "markdown",
      "id": "b04a9d23",
      "metadata": {
        "id": "b04a9d23"
      },
      "source": [
        "## IIBM Bootcamp 2025: Day 3 Afternoon"
      ]
    },
    {
      "cell_type": "markdown",
      "id": "9ae300a6",
      "metadata": {
        "id": "9ae300a6"
      },
      "source": [
        "### Instructors Carlos Valle (cgvalle@uc.cl) and Nicolás Garrido (nagarrido@uc.cl)\n"
      ]
    },
    {
      "cell_type": "markdown",
      "id": "508e1926",
      "metadata": {
        "id": "508e1926"
      },
      "source": [
        "This jupyter noteboook will cover the use of the NumPy and Matplotlib Python libraries and the Matlab equivalence.\n",
        "\n",
        "### Day Agenda:\n",
        "\n",
        "***Morning***\n",
        "1. Working with NumPy\n",
        "    * Arrays\n",
        "    * Vector operations\n",
        "    * Matrix operations\n",
        "    * point-wise operations\n",
        "2. Working with Matplotlib\n",
        "    * Anatomy of a figure\n",
        "    * Fundamental principles of ploting library\n",
        "    * Design of a figure\n",
        "    * Types of figures\n",
        "    \n",
        "3. Introduction to Matlab\n",
        "    * Understanding the GUI\n",
        "    * Vectors and Matrix\n",
        "    * Plots\n",
        "\n",
        "    \n",
        "***Afternoon***\n",
        "\n",
        "4. Group Project\n",
        "    * Working with real-world data\n"
      ]
    },
    {
      "cell_type": "markdown",
      "id": "a5b08ac6",
      "metadata": {
        "id": "a5b08ac6"
      },
      "source": [
        "# 4. Group Project\n",
        "\n"
      ]
    },
    {
      "cell_type": "markdown",
      "id": "9e61fcca",
      "metadata": {
        "id": "9e61fcca"
      },
      "source": [
        "The covid pandemic is still not over, and you are given the task to analyze it. You will plot and get general stats of the pandemic in this exercise for Python and Matlab languages."
      ]
    },
    {
      "cell_type": "markdown",
      "id": "f77f52d8",
      "metadata": {
        "id": "f77f52d8"
      },
      "source": [
        "## 4.1 Python\n",
        "Since you are going to use math operations and plots. Import the neccesary libraries"
      ]
    },
    {
      "cell_type": "code",
      "execution_count": 1,
      "id": "7b5d9697",
      "metadata": {
        "id": "7b5d9697"
      },
      "outputs": [],
      "source": [
        "# Import the two necessary libraries\n",
        "import numpy as np\n",
        "import matplotlib.pyplot as plt\n"
      ]
    },
    {
      "cell_type": "markdown",
      "id": "5d50bb26",
      "metadata": {
        "id": "5d50bb26"
      },
      "source": [
        "## Loading and preparing data\n",
        "Let's now download the data and load it to colab. The data was downloaded from Github report of [MinCiencia](https://github.com/MinCiencia/Datos-COVID19)"
      ]
    },
    {
      "cell_type": "code",
      "execution_count": 2,
      "id": "fd532c2e",
      "metadata": {
        "colab": {
          "base_uri": "https://localhost:8080/"
        },
        "id": "fd532c2e",
        "outputId": "81adcf79-57f0-4219-be28-3842777579ab"
      },
      "outputs": [
        {
          "output_type": "stream",
          "name": "stdout",
          "text": [
            "  % Total    % Received % Xferd  Average Speed   Time    Time     Time  Current\n",
            "                                 Dload  Upload   Total   Spent    Left  Speed\n",
            "100  9647  100  9647    0     0  32484      0 --:--:-- --:--:-- --:--:-- 32481\n"
          ]
        }
      ],
      "source": [
        "# Downloading\n",
        "!curl -O https://raw.githubusercontent.com/cgvalle/IIBM-BootCamp-2025/main/assets/D3/daily_cases.csv"
      ]
    },
    {
      "cell_type": "code",
      "execution_count": 44,
      "id": "13592d84",
      "metadata": {
        "colab": {
          "base_uri": "https://localhost:8080/"
        },
        "id": "13592d84",
        "outputId": "a0380492-6de9-4979-9956-4878091073ea"
      },
      "outputs": [
        {
          "output_type": "execute_result",
          "data": {
            "text/plain": [
              "array([[0.000000e+00, 1.250000e-01],\n",
              "       [1.000000e+00, 2.500000e-01],\n",
              "       [2.000000e+00, 5.000000e-01],\n",
              "       ...,\n",
              "       [6.920000e+02, 3.236375e+03],\n",
              "       [6.930000e+02, 2.054625e+03],\n",
              "       [6.940000e+02, 9.416250e+02]])"
            ]
          },
          "metadata": {},
          "execution_count": 44
        }
      ],
      "source": [
        "# Loading Data\n",
        "with open('daily_cases.csv', 'r') as file:\n",
        "    lines = file.read()\n",
        "    lines = lines.split('\\n')\n",
        "\n",
        "\n",
        "\n",
        "# Formating data <TODO> (The final array of this section should be a numpy array)\n",
        "agg = []\n",
        "for row in lines:\n",
        "    if len(row) == 0:\n",
        "        continue\n",
        "    day, cases = row.split(\",\")\n",
        "    dv = [int(day), float(cases)]\n",
        "    agg.append(dv)\n",
        "    # row = lines[n]\n",
        "    # print(day)\n",
        "    # print(cases)\n",
        "\n",
        "covid = np.array(agg)\n",
        "\n",
        "np.shape(covid)\n",
        "covid"
      ]
    },
    {
      "cell_type": "code",
      "source": [
        "np.mean(covid[:, 1])\n",
        "# covid[:, 1]"
      ],
      "metadata": {
        "id": "dAsOsKmwfP7o",
        "outputId": "33f54332-39af-45ab-ff19-65940f1419bf",
        "colab": {
          "base_uri": "https://localhost:8080/"
        }
      },
      "id": "dAsOsKmwfP7o",
      "execution_count": 41,
      "outputs": [
        {
          "output_type": "execute_result",
          "data": {
            "text/plain": [
              "1.15"
            ]
          },
          "metadata": {},
          "execution_count": 41
        }
      ]
    },
    {
      "cell_type": "markdown",
      "id": "d8e196ac",
      "metadata": {
        "id": "d8e196ac"
      },
      "source": [
        "## Getting some useful information\n",
        "Get the weekly mean and standar deviation of the number of new covid cases. **Use NumPy Arrays!!!**"
      ]
    },
    {
      "cell_type": "code",
      "execution_count": null,
      "id": "581ec93f",
      "metadata": {
        "id": "581ec93f"
      },
      "outputs": [],
      "source": [
        "weekly_mean = \"<TODO>\"\n",
        "weekly_std = \"<TODO>\"\n"
      ]
    },
    {
      "cell_type": "markdown",
      "id": "3eb991d1",
      "metadata": {
        "id": "3eb991d1"
      },
      "source": [
        "## Plots: Plot the daily cases\n",
        "The plot must include the parameters:\n",
        "* x and y labels\n",
        "* title\n",
        "* Line must be red\n",
        "* add legend"
      ]
    },
    {
      "cell_type": "code",
      "execution_count": null,
      "id": "913e5e86",
      "metadata": {
        "id": "913e5e86"
      },
      "outputs": [],
      "source": [
        "\"<TODO>\""
      ]
    },
    {
      "cell_type": "markdown",
      "id": "7934589f",
      "metadata": {
        "id": "7934589f"
      },
      "source": [
        "## Plots: Plot the daily cases\n",
        "Including the paramters of the previous exercise, plot weekly and standar deviation in the same plot."
      ]
    },
    {
      "cell_type": "code",
      "execution_count": null,
      "id": "2c5cea18",
      "metadata": {
        "id": "2c5cea18"
      },
      "outputs": [],
      "source": [
        "\"<TODO>\""
      ]
    },
    {
      "cell_type": "markdown",
      "id": "d6b2e20e",
      "metadata": {
        "id": "d6b2e20e"
      },
      "source": [
        "## 4.2 Matlab\n",
        "Repeate the same analysis on Matlab. With the command below download the data:\n",
        "\n",
        "```R\n",
        "url = \"https://github.com/cgvalle/IIBM-BootCamp-2025/raw/main/assets/D3/daily_cases.mat\"\n",
        "websave('daily_cases.mat', url)\n",
        "```\n",
        "\n",
        "**HINT: You may want to search how to load .mat files!**\n",
        "\n",
        "When you finish, please copy and paste your code here."
      ]
    },
    {
      "cell_type": "markdown",
      "id": "a604b0db",
      "metadata": {
        "id": "a604b0db"
      },
      "source": []
    },
    {
      "cell_type": "markdown",
      "id": "85039b3e",
      "metadata": {
        "id": "85039b3e"
      },
      "source": [
        "# 4. Don't forget to send your work!"
      ]
    },
    {
      "cell_type": "markdown",
      "id": "32f3daf9",
      "metadata": {
        "id": "32f3daf9"
      },
      "source": [
        "Please don't forget to send your work to give you feedback about your progress to this [form](https://forms.gle/sME7JXuoB4ztMCFq6). To send it, you need to download the Notebook from Colab's webpage and upload it in the last question of the form.\n"
      ]
    },
    {
      "cell_type": "code",
      "execution_count": null,
      "id": "c35afac3",
      "metadata": {
        "id": "c35afac3"
      },
      "outputs": [],
      "source": []
    }
  ],
  "metadata": {
    "kernelspec": {
      "display_name": "Python 3 (ipykernel)",
      "language": "python",
      "name": "python3"
    },
    "language_info": {
      "codemirror_mode": {
        "name": "ipython",
        "version": 3
      },
      "file_extension": ".py",
      "mimetype": "text/x-python",
      "name": "python",
      "nbconvert_exporter": "python",
      "pygments_lexer": "ipython3",
      "version": "3.11.4"
    },
    "colab": {
      "provenance": []
    }
  },
  "nbformat": 4,
  "nbformat_minor": 5
}