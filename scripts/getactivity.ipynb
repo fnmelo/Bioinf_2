{
 "cells": [
  {
   "cell_type": "code",
   "execution_count": 21,
   "id": "1f6dac60-92a5-4af0-9fd2-81b75f030fa5",
   "metadata": {},
   "outputs": [],
   "source": [
    "using DataFrames\n",
    "using Chain\n",
    "using CSV"
   ]
  },
  {
   "cell_type": "code",
   "execution_count": 22,
   "id": "f1839031-4581-47fa-9d76-1ca284f34e66",
   "metadata": {},
   "outputs": [
    {
     "data": {
      "text/html": [
       "<div><div style = \"float: left;\"><span>7088×3 DataFrame</span></div><div style = \"float: right;\"><span style = \"font-style: italic;\">7063 rows omitted</span></div><div style = \"clear: both;\"></div></div><div class = \"data-frame\" style = \"overflow-x: scroll;\"><table class = \"data-frame\" style = \"margin-bottom: 6px;\"><thead><tr class = \"header\"><th class = \"rowNumber\" style = \"font-weight: bold; text-align: right;\">Row</th><th style = \"text-align: left;\">lig_id</th><th style = \"text-align: left;\">trg_id</th><th style = \"text-align: left;\">MAX(act.standard_value)</th></tr><tr class = \"subheader headerLastRow\"><th class = \"rowNumber\" style = \"font-weight: bold; text-align: right;\"></th><th title = \"String15\" style = \"text-align: left;\">String15</th><th title = \"String15\" style = \"text-align: left;\">String15</th><th title = \"Float64\" style = \"text-align: left;\">Float64</th></tr></thead><tbody><tr><td class = \"rowNumber\" style = \"font-weight: bold; text-align: right;\">1</td><td style = \"text-align: left;\">CHEMBL1000</td><td style = \"text-align: left;\">CHEMBL231</td><td style = \"text-align: right;\">79.43</td></tr><tr><td class = \"rowNumber\" style = \"font-weight: bold; text-align: right;\">2</td><td style = \"text-align: left;\">CHEMBL1002</td><td style = \"text-align: left;\">CHEMBL210</td><td style = \"text-align: right;\">5623.41</td></tr><tr><td class = \"rowNumber\" style = \"font-weight: bold; text-align: right;\">3</td><td style = \"text-align: left;\">CHEMBL1008</td><td style = \"text-align: left;\">CHEMBL240</td><td style = \"text-align: right;\">549.54</td></tr><tr><td class = \"rowNumber\" style = \"font-weight: bold; text-align: right;\">4</td><td style = \"text-align: left;\">CHEMBL101253</td><td style = \"text-align: left;\">CHEMBL1844</td><td style = \"text-align: right;\">18.0</td></tr><tr><td class = \"rowNumber\" style = \"font-weight: bold; text-align: right;\">5</td><td style = \"text-align: left;\">CHEMBL101253</td><td style = \"text-align: left;\">CHEMBL1868</td><td style = \"text-align: right;\">380.0</td></tr><tr><td class = \"rowNumber\" style = \"font-weight: bold; text-align: right;\">6</td><td style = \"text-align: left;\">CHEMBL101253</td><td style = \"text-align: left;\">CHEMBL1913</td><td style = \"text-align: right;\">58.0</td></tr><tr><td class = \"rowNumber\" style = \"font-weight: bold; text-align: right;\">7</td><td style = \"text-align: left;\">CHEMBL101253</td><td style = \"text-align: left;\">CHEMBL1936</td><td style = \"text-align: right;\">700.0</td></tr><tr><td class = \"rowNumber\" style = \"font-weight: bold; text-align: right;\">8</td><td style = \"text-align: left;\">CHEMBL101253</td><td style = \"text-align: left;\">CHEMBL1955</td><td style = \"text-align: right;\">330.0</td></tr><tr><td class = \"rowNumber\" style = \"font-weight: bold; text-align: right;\">9</td><td style = \"text-align: left;\">CHEMBL101253</td><td style = \"text-align: left;\">CHEMBL2007</td><td style = \"text-align: right;\">96.0</td></tr><tr><td class = \"rowNumber\" style = \"font-weight: bold; text-align: right;\">10</td><td style = \"text-align: left;\">CHEMBL101253</td><td style = \"text-align: left;\">CHEMBL203</td><td style = \"text-align: right;\">457.7</td></tr><tr><td class = \"rowNumber\" style = \"font-weight: bold; text-align: right;\">11</td><td style = \"text-align: left;\">CHEMBL101253</td><td style = \"text-align: left;\">CHEMBL2041</td><td style = \"text-align: right;\">7600.0</td></tr><tr><td class = \"rowNumber\" style = \"font-weight: bold; text-align: right;\">12</td><td style = \"text-align: left;\">CHEMBL101253</td><td style = \"text-align: left;\">CHEMBL279</td><td style = \"text-align: right;\">6754.0</td></tr><tr><td class = \"rowNumber\" style = \"font-weight: bold; text-align: right;\">13</td><td style = \"text-align: left;\">CHEMBL101253</td><td style = \"text-align: left;\">CHEMBL3886</td><td style = \"text-align: right;\">4400.0</td></tr><tr><td style = \"text-align: right;\">&vellip;</td><td style = \"text-align: right;\">&vellip;</td><td style = \"text-align: right;\">&vellip;</td><td style = \"text-align: right;\">&vellip;</td></tr><tr><td class = \"rowNumber\" style = \"font-weight: bold; text-align: right;\">7077</td><td style = \"text-align: left;\">CHEMBL9967</td><td style = \"text-align: left;\">CHEMBL211</td><td style = \"text-align: right;\">524.0</td></tr><tr><td class = \"rowNumber\" style = \"font-weight: bold; text-align: right;\">7078</td><td style = \"text-align: left;\">CHEMBL9967</td><td style = \"text-align: left;\">CHEMBL216</td><td style = \"text-align: right;\">48.98</td></tr><tr><td class = \"rowNumber\" style = \"font-weight: bold; text-align: right;\">7079</td><td style = \"text-align: left;\">CHEMBL9967</td><td style = \"text-align: left;\">CHEMBL245</td><td style = \"text-align: right;\">158.0</td></tr><tr><td class = \"rowNumber\" style = \"font-weight: bold; text-align: right;\">7080</td><td style = \"text-align: left;\">CHEMBL997</td><td style = \"text-align: left;\">CHEMBL1782</td><td style = \"text-align: right;\">1052.0</td></tr><tr><td class = \"rowNumber\" style = \"font-weight: bold; text-align: right;\">7081</td><td style = \"text-align: left;\">CHEMBL998</td><td style = \"text-align: left;\">CHEMBL2047</td><td style = \"text-align: right;\">3070.0</td></tr><tr><td class = \"rowNumber\" style = \"font-weight: bold; text-align: right;\">7082</td><td style = \"text-align: left;\">CHEMBL998</td><td style = \"text-align: left;\">CHEMBL231</td><td style = \"text-align: right;\">414.0</td></tr><tr><td class = \"rowNumber\" style = \"font-weight: bold; text-align: right;\">7083</td><td style = \"text-align: left;\">CHEMBL998</td><td style = \"text-align: left;\">CHEMBL240</td><td style = \"text-align: right;\">173.78</td></tr><tr><td class = \"rowNumber\" style = \"font-weight: bold; text-align: right;\">7084</td><td style = \"text-align: left;\">CHEMBL998</td><td style = \"text-align: left;\">CHEMBL3351189</td><td style = \"text-align: right;\">4000.0</td></tr><tr><td class = \"rowNumber\" style = \"font-weight: bold; text-align: right;\">7085</td><td style = \"text-align: left;\">CHEMBL998</td><td style = \"text-align: left;\">CHEMBL3401</td><td style = \"text-align: right;\">3000.0</td></tr><tr><td class = \"rowNumber\" style = \"font-weight: bold; text-align: right;\">7086</td><td style = \"text-align: left;\">CHEMBL99946</td><td style = \"text-align: left;\">CHEMBL222</td><td style = \"text-align: right;\">40.0</td></tr><tr><td class = \"rowNumber\" style = \"font-weight: bold; text-align: right;\">7087</td><td style = \"text-align: left;\">CHEMBL99946</td><td style = \"text-align: left;\">CHEMBL228</td><td style = \"text-align: right;\">320.0</td></tr><tr><td class = \"rowNumber\" style = \"font-weight: bold; text-align: right;\">7088</td><td style = \"text-align: left;\">CHEMBL99946</td><td style = \"text-align: left;\">CHEMBL238</td><td style = \"text-align: right;\">3200.0</td></tr></tbody></table></div>"
      ],
      "text/latex": [
       "\\begin{tabular}{r|ccc}\n",
       "\t& lig\\_id & trg\\_id & MAX(act.standard\\_value)\\\\\n",
       "\t\\hline\n",
       "\t& String15 & String15 & Float64\\\\\n",
       "\t\\hline\n",
       "\t1 & CHEMBL1000 & CHEMBL231 & 79.43 \\\\\n",
       "\t2 & CHEMBL1002 & CHEMBL210 & 5623.41 \\\\\n",
       "\t3 & CHEMBL1008 & CHEMBL240 & 549.54 \\\\\n",
       "\t4 & CHEMBL101253 & CHEMBL1844 & 18.0 \\\\\n",
       "\t5 & CHEMBL101253 & CHEMBL1868 & 380.0 \\\\\n",
       "\t6 & CHEMBL101253 & CHEMBL1913 & 58.0 \\\\\n",
       "\t7 & CHEMBL101253 & CHEMBL1936 & 700.0 \\\\\n",
       "\t8 & CHEMBL101253 & CHEMBL1955 & 330.0 \\\\\n",
       "\t9 & CHEMBL101253 & CHEMBL2007 & 96.0 \\\\\n",
       "\t10 & CHEMBL101253 & CHEMBL203 & 457.7 \\\\\n",
       "\t11 & CHEMBL101253 & CHEMBL2041 & 7600.0 \\\\\n",
       "\t12 & CHEMBL101253 & CHEMBL279 & 6754.0 \\\\\n",
       "\t13 & CHEMBL101253 & CHEMBL3886 & 4400.0 \\\\\n",
       "\t14 & CHEMBL101253 & CHEMBL4223 & 1800.0 \\\\\n",
       "\t15 & CHEMBL101253 & CHEMBL4601 & 2700.0 \\\\\n",
       "\t16 & CHEMBL101253 & CHEMBL5319 & 270.0 \\\\\n",
       "\t17 & CHEMBL101253 & CHEMBL5579 & 8800.0 \\\\\n",
       "\t18 & CHEMBL1014 & CHEMBL5365 & 9200.0 \\\\\n",
       "\t19 & CHEMBL1014 & CHEMBL5391 & 6200.0 \\\\\n",
       "\t20 & CHEMBL1016 & CHEMBL1835 & 3059.4 \\\\\n",
       "\t21 & CHEMBL1016 & CHEMBL227 & 10.72 \\\\\n",
       "\t22 & CHEMBL1017 & CHEMBL1808 & 6000.0 \\\\\n",
       "\t23 & CHEMBL1017 & CHEMBL227 & 150.0 \\\\\n",
       "\t24 & CHEMBL1017 & CHEMBL5845 & 3200.0 \\\\\n",
       "\t25 & CHEMBL10188 & CHEMBL2327 & 3981.07 \\\\\n",
       "\t26 & CHEMBL10188 & CHEMBL4429 & 229.09 \\\\\n",
       "\t27 & CHEMBL1020 & CHEMBL1900 & 2390.0 \\\\\n",
       "\t28 & CHEMBL1020 & CHEMBL2157 & 90.0 \\\\\n",
       "\t29 & CHEMBL1020 & CHEMBL221 & 41.0 \\\\\n",
       "\t30 & CHEMBL1023 & CHEMBL1870 & 24.0 \\\\\n",
       "\t$\\dots$ & $\\dots$ & $\\dots$ & $\\dots$ \\\\\n",
       "\\end{tabular}\n"
      ],
      "text/plain": [
       "\u001b[1m7088×3 DataFrame\u001b[0m\n",
       "\u001b[1m  Row \u001b[0m│\u001b[1m lig_id       \u001b[0m\u001b[1m trg_id        \u001b[0m\u001b[1m MAX(act.standard_value) \u001b[0m\n",
       "      │\u001b[90m String15     \u001b[0m\u001b[90m String15      \u001b[0m\u001b[90m Float64                 \u001b[0m\n",
       "──────┼──────────────────────────────────────────────────────\n",
       "    1 │ CHEMBL1000    CHEMBL231                        79.43\n",
       "    2 │ CHEMBL1002    CHEMBL210                      5623.41\n",
       "    3 │ CHEMBL1008    CHEMBL240                       549.54\n",
       "    4 │ CHEMBL101253  CHEMBL1844                       18.0\n",
       "    5 │ CHEMBL101253  CHEMBL1868                      380.0\n",
       "    6 │ CHEMBL101253  CHEMBL1913                       58.0\n",
       "    7 │ CHEMBL101253  CHEMBL1936                      700.0\n",
       "    8 │ CHEMBL101253  CHEMBL1955                      330.0\n",
       "    9 │ CHEMBL101253  CHEMBL2007                       96.0\n",
       "   10 │ CHEMBL101253  CHEMBL203                       457.7\n",
       "   11 │ CHEMBL101253  CHEMBL2041                     7600.0\n",
       "  ⋮   │      ⋮              ⋮                   ⋮\n",
       " 7079 │ CHEMBL9967    CHEMBL245                       158.0\n",
       " 7080 │ CHEMBL997     CHEMBL1782                     1052.0\n",
       " 7081 │ CHEMBL998     CHEMBL2047                     3070.0\n",
       " 7082 │ CHEMBL998     CHEMBL231                       414.0\n",
       " 7083 │ CHEMBL998     CHEMBL240                       173.78\n",
       " 7084 │ CHEMBL998     CHEMBL3351189                  4000.0\n",
       " 7085 │ CHEMBL998     CHEMBL3401                     3000.0\n",
       " 7086 │ CHEMBL99946   CHEMBL222                        40.0\n",
       " 7087 │ CHEMBL99946   CHEMBL228                       320.0\n",
       " 7088 │ CHEMBL99946   CHEMBL238                      3200.0\n",
       "\u001b[36m                                            7067 rows omitted\u001b[0m"
      ]
     },
     "execution_count": 22,
     "metadata": {},
     "output_type": "execute_result"
    }
   ],
   "source": [
    "ints = CSV.read(\"data/chembl28.CCandD_clean.csv\", DataFrame)\n",
    "acts = ints[!, [:lig_id, :trg_id, Symbol(\"MAX(act.standard_value)\")]]"
   ]
  },
  {
   "cell_type": "code",
   "execution_count": 23,
   "id": "36035964-ea99-4fe0-982b-3348bc472116",
   "metadata": {},
   "outputs": [
    {
     "data": {
      "text/html": [
       "<div><div style = \"float: left;\"><span>7088×4 DataFrame</span></div><div style = \"float: right;\"><span style = \"font-style: italic;\">7063 rows omitted</span></div><div style = \"clear: both;\"></div></div><div class = \"data-frame\" style = \"overflow-x: scroll;\"><table class = \"data-frame\" style = \"margin-bottom: 6px;\"><thead><tr class = \"header\"><th class = \"rowNumber\" style = \"font-weight: bold; text-align: right;\">Row</th><th style = \"text-align: left;\">ligand</th><th style = \"text-align: left;\">target</th><th style = \"text-align: left;\">activity</th><th style = \"text-align: left;\">minuslog_activity</th></tr><tr class = \"subheader headerLastRow\"><th class = \"rowNumber\" style = \"font-weight: bold; text-align: right;\"></th><th title = \"String15\" style = \"text-align: left;\">String15</th><th title = \"String15\" style = \"text-align: left;\">String15</th><th title = \"Float64\" style = \"text-align: left;\">Float64</th><th title = \"Float64\" style = \"text-align: left;\">Float64</th></tr></thead><tbody><tr><td class = \"rowNumber\" style = \"font-weight: bold; text-align: right;\">1</td><td style = \"text-align: left;\">CHEMBL1000</td><td style = \"text-align: left;\">CHEMBL231</td><td style = \"text-align: right;\">79.43</td><td style = \"text-align: right;\">7.10002</td></tr><tr><td class = \"rowNumber\" style = \"font-weight: bold; text-align: right;\">2</td><td style = \"text-align: left;\">CHEMBL1002</td><td style = \"text-align: left;\">CHEMBL210</td><td style = \"text-align: right;\">5623.41</td><td style = \"text-align: right;\">5.25</td></tr><tr><td class = \"rowNumber\" style = \"font-weight: bold; text-align: right;\">3</td><td style = \"text-align: left;\">CHEMBL1008</td><td style = \"text-align: left;\">CHEMBL240</td><td style = \"text-align: right;\">549.54</td><td style = \"text-align: right;\">6.26</td></tr><tr><td class = \"rowNumber\" style = \"font-weight: bold; text-align: right;\">4</td><td style = \"text-align: left;\">CHEMBL101253</td><td style = \"text-align: left;\">CHEMBL1844</td><td style = \"text-align: right;\">18.0</td><td style = \"text-align: right;\">7.74473</td></tr><tr><td class = \"rowNumber\" style = \"font-weight: bold; text-align: right;\">5</td><td style = \"text-align: left;\">CHEMBL101253</td><td style = \"text-align: left;\">CHEMBL1868</td><td style = \"text-align: right;\">380.0</td><td style = \"text-align: right;\">6.42022</td></tr><tr><td class = \"rowNumber\" style = \"font-weight: bold; text-align: right;\">6</td><td style = \"text-align: left;\">CHEMBL101253</td><td style = \"text-align: left;\">CHEMBL1913</td><td style = \"text-align: right;\">58.0</td><td style = \"text-align: right;\">7.23657</td></tr><tr><td class = \"rowNumber\" style = \"font-weight: bold; text-align: right;\">7</td><td style = \"text-align: left;\">CHEMBL101253</td><td style = \"text-align: left;\">CHEMBL1936</td><td style = \"text-align: right;\">700.0</td><td style = \"text-align: right;\">6.1549</td></tr><tr><td class = \"rowNumber\" style = \"font-weight: bold; text-align: right;\">8</td><td style = \"text-align: left;\">CHEMBL101253</td><td style = \"text-align: left;\">CHEMBL1955</td><td style = \"text-align: right;\">330.0</td><td style = \"text-align: right;\">6.48149</td></tr><tr><td class = \"rowNumber\" style = \"font-weight: bold; text-align: right;\">9</td><td style = \"text-align: left;\">CHEMBL101253</td><td style = \"text-align: left;\">CHEMBL2007</td><td style = \"text-align: right;\">96.0</td><td style = \"text-align: right;\">7.01773</td></tr><tr><td class = \"rowNumber\" style = \"font-weight: bold; text-align: right;\">10</td><td style = \"text-align: left;\">CHEMBL101253</td><td style = \"text-align: left;\">CHEMBL203</td><td style = \"text-align: right;\">457.7</td><td style = \"text-align: right;\">6.33942</td></tr><tr><td class = \"rowNumber\" style = \"font-weight: bold; text-align: right;\">11</td><td style = \"text-align: left;\">CHEMBL101253</td><td style = \"text-align: left;\">CHEMBL2041</td><td style = \"text-align: right;\">7600.0</td><td style = \"text-align: right;\">5.11919</td></tr><tr><td class = \"rowNumber\" style = \"font-weight: bold; text-align: right;\">12</td><td style = \"text-align: left;\">CHEMBL101253</td><td style = \"text-align: left;\">CHEMBL279</td><td style = \"text-align: right;\">6754.0</td><td style = \"text-align: right;\">5.17044</td></tr><tr><td class = \"rowNumber\" style = \"font-weight: bold; text-align: right;\">13</td><td style = \"text-align: left;\">CHEMBL101253</td><td style = \"text-align: left;\">CHEMBL3886</td><td style = \"text-align: right;\">4400.0</td><td style = \"text-align: right;\">5.35655</td></tr><tr><td style = \"text-align: right;\">&vellip;</td><td style = \"text-align: right;\">&vellip;</td><td style = \"text-align: right;\">&vellip;</td><td style = \"text-align: right;\">&vellip;</td><td style = \"text-align: right;\">&vellip;</td></tr><tr><td class = \"rowNumber\" style = \"font-weight: bold; text-align: right;\">7077</td><td style = \"text-align: left;\">CHEMBL9967</td><td style = \"text-align: left;\">CHEMBL211</td><td style = \"text-align: right;\">524.0</td><td style = \"text-align: right;\">6.28067</td></tr><tr><td class = \"rowNumber\" style = \"font-weight: bold; text-align: right;\">7078</td><td style = \"text-align: left;\">CHEMBL9967</td><td style = \"text-align: left;\">CHEMBL216</td><td style = \"text-align: right;\">48.98</td><td style = \"text-align: right;\">7.30998</td></tr><tr><td class = \"rowNumber\" style = \"font-weight: bold; text-align: right;\">7079</td><td style = \"text-align: left;\">CHEMBL9967</td><td style = \"text-align: left;\">CHEMBL245</td><td style = \"text-align: right;\">158.0</td><td style = \"text-align: right;\">6.80134</td></tr><tr><td class = \"rowNumber\" style = \"font-weight: bold; text-align: right;\">7080</td><td style = \"text-align: left;\">CHEMBL997</td><td style = \"text-align: left;\">CHEMBL1782</td><td style = \"text-align: right;\">1052.0</td><td style = \"text-align: right;\">5.97798</td></tr><tr><td class = \"rowNumber\" style = \"font-weight: bold; text-align: right;\">7081</td><td style = \"text-align: left;\">CHEMBL998</td><td style = \"text-align: left;\">CHEMBL2047</td><td style = \"text-align: right;\">3070.0</td><td style = \"text-align: right;\">5.51286</td></tr><tr><td class = \"rowNumber\" style = \"font-weight: bold; text-align: right;\">7082</td><td style = \"text-align: left;\">CHEMBL998</td><td style = \"text-align: left;\">CHEMBL231</td><td style = \"text-align: right;\">414.0</td><td style = \"text-align: right;\">6.383</td></tr><tr><td class = \"rowNumber\" style = \"font-weight: bold; text-align: right;\">7083</td><td style = \"text-align: left;\">CHEMBL998</td><td style = \"text-align: left;\">CHEMBL240</td><td style = \"text-align: right;\">173.78</td><td style = \"text-align: right;\">6.76</td></tr><tr><td class = \"rowNumber\" style = \"font-weight: bold; text-align: right;\">7084</td><td style = \"text-align: left;\">CHEMBL998</td><td style = \"text-align: left;\">CHEMBL3351189</td><td style = \"text-align: right;\">4000.0</td><td style = \"text-align: right;\">5.39794</td></tr><tr><td class = \"rowNumber\" style = \"font-weight: bold; text-align: right;\">7085</td><td style = \"text-align: left;\">CHEMBL998</td><td style = \"text-align: left;\">CHEMBL3401</td><td style = \"text-align: right;\">3000.0</td><td style = \"text-align: right;\">5.52288</td></tr><tr><td class = \"rowNumber\" style = \"font-weight: bold; text-align: right;\">7086</td><td style = \"text-align: left;\">CHEMBL99946</td><td style = \"text-align: left;\">CHEMBL222</td><td style = \"text-align: right;\">40.0</td><td style = \"text-align: right;\">7.39794</td></tr><tr><td class = \"rowNumber\" style = \"font-weight: bold; text-align: right;\">7087</td><td style = \"text-align: left;\">CHEMBL99946</td><td style = \"text-align: left;\">CHEMBL228</td><td style = \"text-align: right;\">320.0</td><td style = \"text-align: right;\">6.49485</td></tr><tr><td class = \"rowNumber\" style = \"font-weight: bold; text-align: right;\">7088</td><td style = \"text-align: left;\">CHEMBL99946</td><td style = \"text-align: left;\">CHEMBL238</td><td style = \"text-align: right;\">3200.0</td><td style = \"text-align: right;\">5.49485</td></tr></tbody></table></div>"
      ],
      "text/latex": [
       "\\begin{tabular}{r|cccc}\n",
       "\t& ligand & target & activity & minuslog\\_activity\\\\\n",
       "\t\\hline\n",
       "\t& String15 & String15 & Float64 & Float64\\\\\n",
       "\t\\hline\n",
       "\t1 & CHEMBL1000 & CHEMBL231 & 79.43 & 7.10002 \\\\\n",
       "\t2 & CHEMBL1002 & CHEMBL210 & 5623.41 & 5.25 \\\\\n",
       "\t3 & CHEMBL1008 & CHEMBL240 & 549.54 & 6.26 \\\\\n",
       "\t4 & CHEMBL101253 & CHEMBL1844 & 18.0 & 7.74473 \\\\\n",
       "\t5 & CHEMBL101253 & CHEMBL1868 & 380.0 & 6.42022 \\\\\n",
       "\t6 & CHEMBL101253 & CHEMBL1913 & 58.0 & 7.23657 \\\\\n",
       "\t7 & CHEMBL101253 & CHEMBL1936 & 700.0 & 6.1549 \\\\\n",
       "\t8 & CHEMBL101253 & CHEMBL1955 & 330.0 & 6.48149 \\\\\n",
       "\t9 & CHEMBL101253 & CHEMBL2007 & 96.0 & 7.01773 \\\\\n",
       "\t10 & CHEMBL101253 & CHEMBL203 & 457.7 & 6.33942 \\\\\n",
       "\t11 & CHEMBL101253 & CHEMBL2041 & 7600.0 & 5.11919 \\\\\n",
       "\t12 & CHEMBL101253 & CHEMBL279 & 6754.0 & 5.17044 \\\\\n",
       "\t13 & CHEMBL101253 & CHEMBL3886 & 4400.0 & 5.35655 \\\\\n",
       "\t14 & CHEMBL101253 & CHEMBL4223 & 1800.0 & 5.74473 \\\\\n",
       "\t15 & CHEMBL101253 & CHEMBL4601 & 2700.0 & 5.56864 \\\\\n",
       "\t16 & CHEMBL101253 & CHEMBL5319 & 270.0 & 6.56864 \\\\\n",
       "\t17 & CHEMBL101253 & CHEMBL5579 & 8800.0 & 5.05552 \\\\\n",
       "\t18 & CHEMBL1014 & CHEMBL5365 & 9200.0 & 5.03621 \\\\\n",
       "\t19 & CHEMBL1014 & CHEMBL5391 & 6200.0 & 5.20761 \\\\\n",
       "\t20 & CHEMBL1016 & CHEMBL1835 & 3059.4 & 5.51436 \\\\\n",
       "\t21 & CHEMBL1016 & CHEMBL227 & 10.72 & 7.96981 \\\\\n",
       "\t22 & CHEMBL1017 & CHEMBL1808 & 6000.0 & 5.22185 \\\\\n",
       "\t23 & CHEMBL1017 & CHEMBL227 & 150.0 & 6.82391 \\\\\n",
       "\t24 & CHEMBL1017 & CHEMBL5845 & 3200.0 & 5.49485 \\\\\n",
       "\t25 & CHEMBL10188 & CHEMBL2327 & 3981.07 & 5.4 \\\\\n",
       "\t26 & CHEMBL10188 & CHEMBL4429 & 229.09 & 6.63999 \\\\\n",
       "\t27 & CHEMBL1020 & CHEMBL1900 & 2390.0 & 5.6216 \\\\\n",
       "\t28 & CHEMBL1020 & CHEMBL2157 & 90.0 & 7.04576 \\\\\n",
       "\t29 & CHEMBL1020 & CHEMBL221 & 41.0 & 7.38722 \\\\\n",
       "\t30 & CHEMBL1023 & CHEMBL1870 & 24.0 & 7.61979 \\\\\n",
       "\t$\\dots$ & $\\dots$ & $\\dots$ & $\\dots$ & $\\dots$ \\\\\n",
       "\\end{tabular}\n"
      ],
      "text/plain": [
       "\u001b[1m7088×4 DataFrame\u001b[0m\n",
       "\u001b[1m  Row \u001b[0m│\u001b[1m ligand       \u001b[0m\u001b[1m target        \u001b[0m\u001b[1m activity \u001b[0m\u001b[1m minuslog_activity \u001b[0m\n",
       "      │\u001b[90m String15     \u001b[0m\u001b[90m String15      \u001b[0m\u001b[90m Float64  \u001b[0m\u001b[90m Float64           \u001b[0m\n",
       "──────┼──────────────────────────────────────────────────────────\n",
       "    1 │ CHEMBL1000    CHEMBL231         79.43            7.10002\n",
       "    2 │ CHEMBL1002    CHEMBL210       5623.41            5.25\n",
       "    3 │ CHEMBL1008    CHEMBL240        549.54            6.26\n",
       "    4 │ CHEMBL101253  CHEMBL1844        18.0             7.74473\n",
       "    5 │ CHEMBL101253  CHEMBL1868       380.0             6.42022\n",
       "    6 │ CHEMBL101253  CHEMBL1913        58.0             7.23657\n",
       "    7 │ CHEMBL101253  CHEMBL1936       700.0             6.1549\n",
       "    8 │ CHEMBL101253  CHEMBL1955       330.0             6.48149\n",
       "    9 │ CHEMBL101253  CHEMBL2007        96.0             7.01773\n",
       "   10 │ CHEMBL101253  CHEMBL203        457.7             6.33942\n",
       "   11 │ CHEMBL101253  CHEMBL2041      7600.0             5.11919\n",
       "  ⋮   │      ⋮              ⋮           ⋮              ⋮\n",
       " 7079 │ CHEMBL9967    CHEMBL245        158.0             6.80134\n",
       " 7080 │ CHEMBL997     CHEMBL1782      1052.0             5.97798\n",
       " 7081 │ CHEMBL998     CHEMBL2047      3070.0             5.51286\n",
       " 7082 │ CHEMBL998     CHEMBL231        414.0             6.383\n",
       " 7083 │ CHEMBL998     CHEMBL240        173.78            6.76\n",
       " 7084 │ CHEMBL998     CHEMBL3351189   4000.0             5.39794\n",
       " 7085 │ CHEMBL998     CHEMBL3401      3000.0             5.52288\n",
       " 7086 │ CHEMBL99946   CHEMBL222         40.0             7.39794\n",
       " 7087 │ CHEMBL99946   CHEMBL228        320.0             6.49485\n",
       " 7088 │ CHEMBL99946   CHEMBL238       3200.0             5.49485\n",
       "\u001b[36m                                                7067 rows omitted\u001b[0m"
      ]
     },
     "execution_count": 23,
     "metadata": {},
     "output_type": "execute_result"
    }
   ],
   "source": [
    "acts = @chain acts begin\n",
    "    rename(\n",
    "        :lig_id => :ligand,\n",
    "        :trg_id => :target,\n",
    "        Symbol(\"MAX(act.standard_value)\") => :activity\n",
    "    )\n",
    "    transform(:activity => ByRow(x -> -log10(x/1e+9)) => :minuslog_activity)\n",
    "end"
   ]
  },
  {
   "cell_type": "code",
   "execution_count": 25,
   "id": "14256d40-a034-48c2-9dd9-b93b08ea3f72",
   "metadata": {},
   "outputs": [
    {
     "data": {
      "text/plain": [
       "\"data/chembl28.CCandD_clean.activity.csv\""
      ]
     },
     "execution_count": 25,
     "metadata": {},
     "output_type": "execute_result"
    }
   ],
   "source": [
    "CSV.write(\"data/chembl28.CCandD_clean.activity.csv\", acts)"
   ]
  },
  {
   "cell_type": "code",
   "execution_count": null,
   "id": "44ee68ec-0118-4199-b61f-327631a8edc0",
   "metadata": {},
   "outputs": [],
   "source": []
  }
 ],
 "metadata": {
  "kernelspec": {
   "display_name": "Julia 1.9.0",
   "language": "julia",
   "name": "julia-1.9"
  },
  "language_info": {
   "file_extension": ".jl",
   "mimetype": "application/julia",
   "name": "julia",
   "version": "1.9.0"
  }
 },
 "nbformat": 4,
 "nbformat_minor": 5
}
