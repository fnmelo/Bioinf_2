{
 "cells": [
  {
   "cell_type": "code",
   "execution_count": null,
   "id": "6bd0f020",
   "metadata": {},
   "outputs": [],
   "source": [
    "using DataFrames\n",
    "using CSV\n",
    "using Glob\n",
    "using Chain\n",
    "using Statistics\n",
    "using SimSpread\n"
   ]
  },
  {
   "cell_type": "code",
   "execution_count": null,
   "id": "a50fadd8",
   "metadata": {},
   "outputs": [],
   "source": [
    "\n",
    "\n",
    "path = \"/home/fabian/simspread/simspread_timesplit_predictions\"\n",
    "files = glob(\"*.out\", path)\n",
    "df = DataFrame()\n",
    "\n",
    "\n",
    "for file in files\n",
    "    # extract\n",
    "    α = @chain file begin\n",
    "        basename\n",
    "        replace(\".out\" => \"\")\n",
    "        split('.')\n",
    "        last\n",
    "        split('_')\n",
    "        last\n",
    "    end\n",
    "    \n",
    "    α_value = if startswith(α, \"0\")\n",
    "              parse(Float64, α, ) / 100\n",
    "          else\n",
    "              parse(Float64, α) / 10\n",
    "          end\n",
    " \n",
    "    \n",
    "    # file to df\n",
    "    file_df = CSV.File(file, delim=\",\", header=[\"Fold\", \"Ligando\", \"Target\", \"Score\", \"TP\"]) |> DataFrame\n",
    "    \n",
    "    # add alpha \n",
    "    file_df[!, \"Alpha\"] .= α_value\n",
    "    \n",
    "    append!(df, file_df)\n",
    "end\n",
    "\n",
    "\n"
   ]
  },
  {
   "cell_type": "code",
   "execution_count": null,
   "id": "06e950f9-9236-46fb-95c8-63e8080cd1a7",
   "metadata": {},
   "outputs": [
    {
     "data": {
      "text/plain": [
       "20-element Vector{Float64}:\n",
       " 0.0\n",
       " 0.01\n",
       " 0.02\n",
       " 0.03\n",
       " 0.04\n",
       " 0.05\n",
       " 0.06\n",
       " 0.07\n",
       " 0.08\n",
       " 0.09\n",
       " 0.15\n",
       " 0.25\n",
       " 0.35\n",
       " 0.45\n",
       " 0.55\n",
       " 0.65\n",
       " 0.75\n",
       " 0.85\n",
       " 0.95\n",
       " 1.0"
      ]
     },
     "execution_count": 13,
     "metadata": {},
     "output_type": "execute_result"
    }
   ],
   "source": [
    "# alpha_values = unique(df[:, \"Alpha\"])\n",
    "# alpha_values = sort(alpha_values)\n",
    "\n"
   ]
  },
  {
   "cell_type": "code",
   "execution_count": 15,
   "id": "69e7d615-4164-455b-8b42-42f7d5c7f9f8",
   "metadata": {},
   "outputs": [
    {
     "data": {
      "text/html": [
       "<div><div style = \"float: left;\"><span>190785×8 DataFrame</span></div><div style = \"float: right;\"><span style = \"font-style: italic;\">190760 rows omitted</span></div><div style = \"clear: both;\"></div></div><div class = \"data-frame\" style = \"overflow-x: scroll;\"><table class = \"data-frame\" style = \"margin-bottom: 6px;\"><thead><tr class = \"header\"><th class = \"rowNumber\" style = \"font-weight: bold; text-align: right;\">Row</th><th style = \"text-align: left;\">Fold</th><th style = \"text-align: left;\">Ligando</th><th style = \"text-align: left;\">Target</th><th style = \"text-align: left;\">TP</th><th style = \"text-align: left;\">0.02</th><th style = \"text-align: left;\">Mean</th><th style = \"text-align: left;\">Max</th><th style = \"text-align: left;\">Sum</th></tr><tr class = \"subheader headerLastRow\"><th class = \"rowNumber\" style = \"font-weight: bold; text-align: right;\"></th><th title = \"Int64\" style = \"text-align: left;\">Int64</th><th title = \"String15\" style = \"text-align: left;\">String15</th><th title = \"String15\" style = \"text-align: left;\">String15</th><th title = \"Float64\" style = \"text-align: left;\">Float64</th><th title = \"Union{Missing, Float64}\" style = \"text-align: left;\">Float64?</th><th title = \"Union{Missing, Float64}\" style = \"text-align: left;\">Float64?</th><th title = \"Union{Missing, Float64}\" style = \"text-align: left;\">Float64?</th><th title = \"Union{Missing, Float64}\" style = \"text-align: left;\">Float64?</th></tr></thead><tbody><tr><td class = \"rowNumber\" style = \"font-weight: bold; text-align: right;\">1</td><td style = \"text-align: right;\">1</td><td style = \"text-align: left;\"> CHEMBL1062</td><td style = \"text-align: left;\"> CHEMBL1075132</td><td style = \"text-align: right;\">0.0</td><td style = \"text-align: right;\">0.0</td><td style = \"text-align: right;\">4.94711e-6</td><td style = \"text-align: right;\">5.02698e-5</td><td style = \"text-align: right;\">9.89422e-5</td></tr><tr><td class = \"rowNumber\" style = \"font-weight: bold; text-align: right;\">2</td><td style = \"text-align: right;\">1</td><td style = \"text-align: left;\"> CHEMBL1062</td><td style = \"text-align: left;\"> CHEMBL1075145</td><td style = \"text-align: right;\">0.0</td><td style = \"text-align: right;\">0.0</td><td style = \"text-align: right;\">6.18897e-7</td><td style = \"text-align: right;\">5.72355e-6</td><td style = \"text-align: right;\">1.23779e-5</td></tr><tr><td class = \"rowNumber\" style = \"font-weight: bold; text-align: right;\">3</td><td style = \"text-align: right;\">1</td><td style = \"text-align: left;\"> CHEMBL1062</td><td style = \"text-align: left;\"> CHEMBL1075165</td><td style = \"text-align: right;\">0.0</td><td style = \"text-align: right;\">0.0</td><td style = \"text-align: right;\">2.61921e-6</td><td style = \"text-align: right;\">2.20103e-5</td><td style = \"text-align: right;\">5.23842e-5</td></tr><tr><td class = \"rowNumber\" style = \"font-weight: bold; text-align: right;\">4</td><td style = \"text-align: right;\">1</td><td style = \"text-align: left;\"> CHEMBL1062</td><td style = \"text-align: left;\"> CHEMBL1075323</td><td style = \"text-align: right;\">0.0</td><td style = \"text-align: right;\">0.0</td><td style = \"text-align: right;\">1.30208e-6</td><td style = \"text-align: right;\">9.3893e-6</td><td style = \"text-align: right;\">2.60415e-5</td></tr><tr><td class = \"rowNumber\" style = \"font-weight: bold; text-align: right;\">5</td><td style = \"text-align: right;\">1</td><td style = \"text-align: left;\"> CHEMBL1062</td><td style = \"text-align: left;\"> CHEMBL1163125</td><td style = \"text-align: right;\">0.0</td><td style = \"text-align: right;\">0.0</td><td style = \"text-align: right;\">5.68893e-6</td><td style = \"text-align: right;\">4.35057e-5</td><td style = \"text-align: right;\">0.000113779</td></tr><tr><td class = \"rowNumber\" style = \"font-weight: bold; text-align: right;\">6</td><td style = \"text-align: right;\">1</td><td style = \"text-align: left;\"> CHEMBL1062</td><td style = \"text-align: left;\"> CHEMBL1250378</td><td style = \"text-align: right;\">0.0</td><td style = \"text-align: right;\">0.0</td><td style = \"text-align: right;\">3.44353e-6</td><td style = \"text-align: right;\">5.37322e-5</td><td style = \"text-align: right;\">6.88706e-5</td></tr><tr><td class = \"rowNumber\" style = \"font-weight: bold; text-align: right;\">7</td><td style = \"text-align: right;\">1</td><td style = \"text-align: left;\"> CHEMBL1062</td><td style = \"text-align: left;\"> CHEMBL1293224</td><td style = \"text-align: right;\">0.0</td><td style = \"text-align: right;\">0.0</td><td style = \"text-align: right;\">2.32767e-6</td><td style = \"text-align: right;\">1.6584e-5</td><td style = \"text-align: right;\">4.65534e-5</td></tr><tr><td class = \"rowNumber\" style = \"font-weight: bold; text-align: right;\">8</td><td style = \"text-align: right;\">1</td><td style = \"text-align: left;\"> CHEMBL1062</td><td style = \"text-align: left;\"> CHEMBL1293226</td><td style = \"text-align: right;\">0.0</td><td style = \"text-align: right;\">0.0</td><td style = \"text-align: right;\">6.49063e-6</td><td style = \"text-align: right;\">5.93017e-5</td><td style = \"text-align: right;\">0.000129813</td></tr><tr><td class = \"rowNumber\" style = \"font-weight: bold; text-align: right;\">9</td><td style = \"text-align: right;\">1</td><td style = \"text-align: left;\"> CHEMBL1062</td><td style = \"text-align: left;\"> CHEMBL1293267</td><td style = \"text-align: right;\">0.0</td><td style = \"text-align: right;\">0.0</td><td style = \"text-align: right;\">4.11327e-6</td><td style = \"text-align: right;\">3.11141e-5</td><td style = \"text-align: right;\">8.22653e-5</td></tr><tr><td class = \"rowNumber\" style = \"font-weight: bold; text-align: right;\">10</td><td style = \"text-align: right;\">1</td><td style = \"text-align: left;\"> CHEMBL1062</td><td style = \"text-align: left;\"> CHEMBL1293289</td><td style = \"text-align: right;\">0.0</td><td style = \"text-align: right;\">0.0</td><td style = \"text-align: right;\">1.08029e-6</td><td style = \"text-align: right;\">8.15154e-6</td><td style = \"text-align: right;\">2.16058e-5</td></tr><tr><td class = \"rowNumber\" style = \"font-weight: bold; text-align: right;\">11</td><td style = \"text-align: right;\">1</td><td style = \"text-align: left;\"> CHEMBL1062</td><td style = \"text-align: left;\"> CHEMBL1743126</td><td style = \"text-align: right;\">0.0</td><td style = \"text-align: right;\">0.00195495</td><td style = \"text-align: right;\">0.000201861</td><td style = \"text-align: right;\">0.00195495</td><td style = \"text-align: right;\">0.00403723</td></tr><tr><td class = \"rowNumber\" style = \"font-weight: bold; text-align: right;\">12</td><td style = \"text-align: right;\">1</td><td style = \"text-align: left;\"> CHEMBL1062</td><td style = \"text-align: left;\"> CHEMBL1781</td><td style = \"text-align: right;\">0.0</td><td style = \"text-align: right;\">0.0</td><td style = \"text-align: right;\">3.25956e-6</td><td style = \"text-align: right;\">2.08494e-5</td><td style = \"text-align: right;\">6.51911e-5</td></tr><tr><td class = \"rowNumber\" style = \"font-weight: bold; text-align: right;\">13</td><td style = \"text-align: right;\">1</td><td style = \"text-align: left;\"> CHEMBL1062</td><td style = \"text-align: left;\"> CHEMBL1782</td><td style = \"text-align: right;\">0.0</td><td style = \"text-align: right;\">0.0</td><td style = \"text-align: right;\">4.76413e-6</td><td style = \"text-align: right;\">4.30812e-5</td><td style = \"text-align: right;\">9.52826e-5</td></tr><tr><td style = \"text-align: right;\">&vellip;</td><td style = \"text-align: right;\">&vellip;</td><td style = \"text-align: right;\">&vellip;</td><td style = \"text-align: right;\">&vellip;</td><td style = \"text-align: right;\">&vellip;</td><td style = \"text-align: right;\">&vellip;</td><td style = \"text-align: right;\">&vellip;</td><td style = \"text-align: right;\">&vellip;</td><td style = \"text-align: right;\">&vellip;</td></tr><tr><td class = \"rowNumber\" style = \"font-weight: bold; text-align: right;\">190774</td><td style = \"text-align: right;\">483</td><td style = \"text-align: left;\"> CHEMBL99</td><td style = \"text-align: left;\"> CHEMBL5784</td><td style = \"text-align: right;\">0.0</td><td style = \"text-align: right;\">0.0</td><td style = \"text-align: right;\">9.93625e-6</td><td style = \"text-align: right;\">6.77422e-5</td><td style = \"text-align: right;\">0.000198725</td></tr><tr><td class = \"rowNumber\" style = \"font-weight: bold; text-align: right;\">190775</td><td style = \"text-align: right;\">483</td><td style = \"text-align: left;\"> CHEMBL99</td><td style = \"text-align: left;\"> CHEMBL5810</td><td style = \"text-align: right;\">0.0</td><td style = \"text-align: right;\">0.0</td><td style = \"text-align: right;\">1.16682e-5</td><td style = \"text-align: right;\">7.60118e-5</td><td style = \"text-align: right;\">0.000233364</td></tr><tr><td class = \"rowNumber\" style = \"font-weight: bold; text-align: right;\">190776</td><td style = \"text-align: right;\">483</td><td style = \"text-align: left;\"> CHEMBL99</td><td style = \"text-align: left;\"> CHEMBL5838</td><td style = \"text-align: right;\">0.0</td><td style = \"text-align: right;\">0.0</td><td style = \"text-align: right;\">2.77293e-6</td><td style = \"text-align: right;\">1.93711e-5</td><td style = \"text-align: right;\">5.54586e-5</td></tr><tr><td class = \"rowNumber\" style = \"font-weight: bold; text-align: right;\">190777</td><td style = \"text-align: right;\">483</td><td style = \"text-align: left;\"> CHEMBL99</td><td style = \"text-align: left;\"> CHEMBL5843</td><td style = \"text-align: right;\">0.0</td><td style = \"text-align: right;\">0.0</td><td style = \"text-align: right;\">9.71593e-7</td><td style = \"text-align: right;\">7.4124e-6</td><td style = \"text-align: right;\">1.94319e-5</td></tr><tr><td class = \"rowNumber\" style = \"font-weight: bold; text-align: right;\">190778</td><td style = \"text-align: right;\">483</td><td style = \"text-align: left;\"> CHEMBL99</td><td style = \"text-align: left;\"> CHEMBL5936</td><td style = \"text-align: right;\">0.0</td><td style = \"text-align: right;\">0.0</td><td style = \"text-align: right;\">2.49165e-6</td><td style = \"text-align: right;\">1.73382e-5</td><td style = \"text-align: right;\">4.98329e-5</td></tr><tr><td class = \"rowNumber\" style = \"font-weight: bold; text-align: right;\">190779</td><td style = \"text-align: right;\">483</td><td style = \"text-align: left;\"> CHEMBL99</td><td style = \"text-align: left;\"> CHEMBL5971</td><td style = \"text-align: right;\">0.0</td><td style = \"text-align: right;\">0.0</td><td style = \"text-align: right;\">6.37899e-6</td><td style = \"text-align: right;\">4.20501e-5</td><td style = \"text-align: right;\">0.00012758</td></tr><tr><td class = \"rowNumber\" style = \"font-weight: bold; text-align: right;\">190780</td><td style = \"text-align: right;\">483</td><td style = \"text-align: left;\"> CHEMBL99</td><td style = \"text-align: left;\"> CHEMBL5983</td><td style = \"text-align: right;\">0.0</td><td style = \"text-align: right;\">2.50376e-5</td><td style = \"text-align: right;\">1.27712e-5</td><td style = \"text-align: right;\">8.82167e-5</td><td style = \"text-align: right;\">0.000255424</td></tr><tr><td class = \"rowNumber\" style = \"font-weight: bold; text-align: right;\">190781</td><td style = \"text-align: right;\">483</td><td style = \"text-align: left;\"> CHEMBL99</td><td style = \"text-align: left;\"> CHEMBL6002</td><td style = \"text-align: right;\">0.0</td><td style = \"text-align: right;\">0.0</td><td style = \"text-align: right;\">1.47372e-5</td><td style = \"text-align: right;\">9.51605e-5</td><td style = \"text-align: right;\">0.000294743</td></tr><tr><td class = \"rowNumber\" style = \"font-weight: bold; text-align: right;\">190782</td><td style = \"text-align: right;\">483</td><td style = \"text-align: left;\"> CHEMBL99</td><td style = \"text-align: left;\"> CHEMBL6113</td><td style = \"text-align: right;\">0.0</td><td style = \"text-align: right;\">0.0</td><td style = \"text-align: right;\">1.01789e-6</td><td style = \"text-align: right;\">7.59267e-6</td><td style = \"text-align: right;\">2.03578e-5</td></tr><tr><td class = \"rowNumber\" style = \"font-weight: bold; text-align: right;\">190783</td><td style = \"text-align: right;\">483</td><td style = \"text-align: left;\"> CHEMBL99</td><td style = \"text-align: left;\"> CHEMBL6154</td><td style = \"text-align: right;\">0.0</td><td style = \"text-align: right;\">0.0</td><td style = \"text-align: right;\">3.26777e-6</td><td style = \"text-align: right;\">1.83395e-5</td><td style = \"text-align: right;\">6.53555e-5</td></tr><tr><td class = \"rowNumber\" style = \"font-weight: bold; text-align: right;\">190784</td><td style = \"text-align: right;\">483</td><td style = \"text-align: left;\"> CHEMBL99</td><td style = \"text-align: left;\"> CHEMBL6164</td><td style = \"text-align: right;\">0.0</td><td style = \"text-align: right;\">0.0</td><td style = \"text-align: right;\">4.73767e-6</td><td style = \"text-align: right;\">2.67334e-5</td><td style = \"text-align: right;\">9.47534e-5</td></tr><tr><td class = \"rowNumber\" style = \"font-weight: bold; text-align: right;\">190785</td><td style = \"text-align: right;\">483</td><td style = \"text-align: left;\"> CHEMBL99</td><td style = \"text-align: left;\"> CHEMBL6174</td><td style = \"text-align: right;\">0.0</td><td style = \"text-align: right;\">0.0</td><td style = \"text-align: right;\">1.23877e-6</td><td style = \"text-align: right;\">9.49068e-6</td><td style = \"text-align: right;\">2.47755e-5</td></tr></tbody></table></div>"
      ],
      "text/latex": [
       "\\begin{tabular}{r|cccccccc}\n",
       "\t& Fold & Ligando & Target & TP & 0.02 & Mean & Max & \\\\\n",
       "\t\\hline\n",
       "\t& Int64 & String15 & String15 & Float64 & Float64? & Float64? & Float64? & \\\\\n",
       "\t\\hline\n",
       "\t1 & 1 &  CHEMBL1062 &  CHEMBL1075132 & 0.0 & 0.0 & 4.94711e-6 & 5.02698e-5 & $\\dots$ \\\\\n",
       "\t2 & 1 &  CHEMBL1062 &  CHEMBL1075145 & 0.0 & 0.0 & 6.18897e-7 & 5.72355e-6 & $\\dots$ \\\\\n",
       "\t3 & 1 &  CHEMBL1062 &  CHEMBL1075165 & 0.0 & 0.0 & 2.61921e-6 & 2.20103e-5 & $\\dots$ \\\\\n",
       "\t4 & 1 &  CHEMBL1062 &  CHEMBL1075323 & 0.0 & 0.0 & 1.30208e-6 & 9.3893e-6 & $\\dots$ \\\\\n",
       "\t5 & 1 &  CHEMBL1062 &  CHEMBL1163125 & 0.0 & 0.0 & 5.68893e-6 & 4.35057e-5 & $\\dots$ \\\\\n",
       "\t6 & 1 &  CHEMBL1062 &  CHEMBL1250378 & 0.0 & 0.0 & 3.44353e-6 & 5.37322e-5 & $\\dots$ \\\\\n",
       "\t7 & 1 &  CHEMBL1062 &  CHEMBL1293224 & 0.0 & 0.0 & 2.32767e-6 & 1.6584e-5 & $\\dots$ \\\\\n",
       "\t8 & 1 &  CHEMBL1062 &  CHEMBL1293226 & 0.0 & 0.0 & 6.49063e-6 & 5.93017e-5 & $\\dots$ \\\\\n",
       "\t9 & 1 &  CHEMBL1062 &  CHEMBL1293267 & 0.0 & 0.0 & 4.11327e-6 & 3.11141e-5 & $\\dots$ \\\\\n",
       "\t10 & 1 &  CHEMBL1062 &  CHEMBL1293289 & 0.0 & 0.0 & 1.08029e-6 & 8.15154e-6 & $\\dots$ \\\\\n",
       "\t11 & 1 &  CHEMBL1062 &  CHEMBL1743126 & 0.0 & 0.00195495 & 0.000201861 & 0.00195495 & $\\dots$ \\\\\n",
       "\t12 & 1 &  CHEMBL1062 &  CHEMBL1781 & 0.0 & 0.0 & 3.25956e-6 & 2.08494e-5 & $\\dots$ \\\\\n",
       "\t13 & 1 &  CHEMBL1062 &  CHEMBL1782 & 0.0 & 0.0 & 4.76413e-6 & 4.30812e-5 & $\\dots$ \\\\\n",
       "\t14 & 1 &  CHEMBL1062 &  CHEMBL1785 & 0.0 & 0.0 & 8.75178e-7 & 7.30072e-6 & $\\dots$ \\\\\n",
       "\t15 & 1 &  CHEMBL1062 &  CHEMBL1790 & 0.0 & 0.0 & 1.30546e-5 & 8.60923e-5 & $\\dots$ \\\\\n",
       "\t16 & 1 &  CHEMBL1062 &  CHEMBL1792 & 0.0 & 0.0 & 1.37652e-6 & 9.36551e-6 & $\\dots$ \\\\\n",
       "\t17 & 1 &  CHEMBL1062 &  CHEMBL1795168 & 0.0 & 0.0 & 1.82441e-6 & 1.53782e-5 & $\\dots$ \\\\\n",
       "\t18 & 1 &  CHEMBL1062 &  CHEMBL1795185 & 0.0 & 0.0 & 2.42169e-6 & 1.83383e-5 & $\\dots$ \\\\\n",
       "\t19 & 1 &  CHEMBL1062 &  CHEMBL1795186 & 0.0 & 0.0 & 1.08029e-6 & 8.15154e-6 & $\\dots$ \\\\\n",
       "\t20 & 1 &  CHEMBL1062 &  CHEMBL1795188 & 0.0 & 0.0 & 3.1399e-6 & 2.35915e-5 & $\\dots$ \\\\\n",
       "\t21 & 1 &  CHEMBL1062 &  CHEMBL1808 & 0.0 & 0.0 & 4.54738e-6 & 3.74479e-5 & $\\dots$ \\\\\n",
       "\t22 & 1 &  CHEMBL1062 &  CHEMBL1821 & 0.0 & 0.0 & 2.79534e-5 & 0.000189018 & $\\dots$ \\\\\n",
       "\t23 & 1 &  CHEMBL1062 &  CHEMBL1824 & 0.0 & 0.0 & 2.3606e-5 & 0.000179915 & $\\dots$ \\\\\n",
       "\t24 & 1 &  CHEMBL1062 &  CHEMBL1827 & 0.0 & 0.0 & 5.56262e-6 & 4.49118e-5 & $\\dots$ \\\\\n",
       "\t25 & 1 &  CHEMBL1062 &  CHEMBL1829 & 0.0 & 0.0 & 1.22183e-5 & 9.41341e-5 & $\\dots$ \\\\\n",
       "\t26 & 1 &  CHEMBL1062 &  CHEMBL1833 & 0.0 & 0.0 & 2.29116e-5 & 0.000159198 & $\\dots$ \\\\\n",
       "\t27 & 1 &  CHEMBL1062 &  CHEMBL1835 & 0.0 & 0.0 & 3.09408e-5 & 0.00018615 & $\\dots$ \\\\\n",
       "\t28 & 1 &  CHEMBL1062 &  CHEMBL1844 & 0.0 & 0.0 & 3.14636e-5 & 0.000219515 & $\\dots$ \\\\\n",
       "\t29 & 1 &  CHEMBL1062 &  CHEMBL1845 & 0.0 & 0.0 & 9.93028e-7 & 8.36129e-6 & $\\dots$ \\\\\n",
       "\t30 & 1 &  CHEMBL1062 &  CHEMBL1850 & 0.0 & 0.0 & 1.50898e-5 & 7.72935e-5 & $\\dots$ \\\\\n",
       "\t$\\dots$ & $\\dots$ & $\\dots$ & $\\dots$ & $\\dots$ & $\\dots$ & $\\dots$ & $\\dots$ &  \\\\\n",
       "\\end{tabular}\n"
      ],
      "text/plain": [
       "\u001b[1m190785×8 DataFrame\u001b[0m\n",
       "\u001b[1m    Row \u001b[0m│\u001b[1m Fold  \u001b[0m\u001b[1m Ligando     \u001b[0m\u001b[1m Target         \u001b[0m\u001b[1m TP      \u001b[0m\u001b[1m 0.02       \u001b[0m\u001b[1m Mean       \u001b[0m ⋯\n",
       "        │\u001b[90m Int64 \u001b[0m\u001b[90m String15    \u001b[0m\u001b[90m String15       \u001b[0m\u001b[90m Float64 \u001b[0m\u001b[90m Float64?   \u001b[0m\u001b[90m Float64?   \u001b[0m ⋯\n",
       "────────┼───────────────────────────────────────────────────────────────────────\n",
       "      1 │     1   CHEMBL1062   CHEMBL1075132      0.0  0.0         4.94711e-6  ⋯\n",
       "      2 │     1   CHEMBL1062   CHEMBL1075145      0.0  0.0         6.18897e-7\n",
       "      3 │     1   CHEMBL1062   CHEMBL1075165      0.0  0.0         2.61921e-6\n",
       "      4 │     1   CHEMBL1062   CHEMBL1075323      0.0  0.0         1.30208e-6\n",
       "      5 │     1   CHEMBL1062   CHEMBL1163125      0.0  0.0         5.68893e-6  ⋯\n",
       "      6 │     1   CHEMBL1062   CHEMBL1250378      0.0  0.0         3.44353e-6\n",
       "      7 │     1   CHEMBL1062   CHEMBL1293224      0.0  0.0         2.32767e-6\n",
       "      8 │     1   CHEMBL1062   CHEMBL1293226      0.0  0.0         6.49063e-6\n",
       "      9 │     1   CHEMBL1062   CHEMBL1293267      0.0  0.0         4.11327e-6  ⋯\n",
       "     10 │     1   CHEMBL1062   CHEMBL1293289      0.0  0.0         1.08029e-6\n",
       "     11 │     1   CHEMBL1062   CHEMBL1743126      0.0  0.00195495  0.000201861\n",
       "   ⋮    │   ⋮         ⋮             ⋮            ⋮         ⋮            ⋮      ⋱\n",
       " 190776 │   483   CHEMBL99     CHEMBL5838         0.0  0.0         2.77293e-6\n",
       " 190777 │   483   CHEMBL99     CHEMBL5843         0.0  0.0         9.71593e-7  ⋯\n",
       " 190778 │   483   CHEMBL99     CHEMBL5936         0.0  0.0         2.49165e-6\n",
       " 190779 │   483   CHEMBL99     CHEMBL5971         0.0  0.0         6.37899e-6\n",
       " 190780 │   483   CHEMBL99     CHEMBL5983         0.0  2.50376e-5  1.27712e-5\n",
       " 190781 │   483   CHEMBL99     CHEMBL6002         0.0  0.0         1.47372e-5  ⋯\n",
       " 190782 │   483   CHEMBL99     CHEMBL6113         0.0  0.0         1.01789e-6\n",
       " 190783 │   483   CHEMBL99     CHEMBL6154         0.0  0.0         3.26777e-6\n",
       " 190784 │   483   CHEMBL99     CHEMBL6164         0.0  0.0         4.73767e-6\n",
       " 190785 │   483   CHEMBL99     CHEMBL6174         0.0  0.0         1.23877e-6  ⋯\n",
       "\u001b[36m                                               2 columns and 190764 rows omitted\u001b[0m"
      ]
     },
     "execution_count": 15,
     "metadata": {},
     "output_type": "execute_result"
    }
   ],
   "source": [
    "df_2 = df\n",
    "df_2 = @chain df_2 begin\n",
    "    groupby([:Fold, :Ligando, :Target, :TP, :Alpha])    \n",
    "    combine(:Score => sum => :Score)\n",
    "    unstack(:Alpha, :Score)\n",
    "    transform(AsTable(5:24) .=>\n",
    "              ByRow.([mean, maximum, sum]) .=>\n",
    "              [:Mean, :Max, :Sum])\n",
    "    select([1,2,3,4,9,25,26,27])\n",
    "end\n",
    "\n"
   ]
  },
  {
   "cell_type": "code",
   "execution_count": null,
   "id": "d2cc33f4-ef42-409b-899c-21af0234bf23",
   "metadata": {},
   "outputs": [],
   "source": []
  }
 ],
 "metadata": {
  "kernelspec": {
   "display_name": "Julia 1.8.5",
   "language": "julia",
   "name": "julia-1.8"
  },
  "language_info": {
   "file_extension": ".jl",
   "mimetype": "application/julia",
   "name": "julia",
   "version": "1.8.5"
  }
 },
 "nbformat": 4,
 "nbformat_minor": 5
}
